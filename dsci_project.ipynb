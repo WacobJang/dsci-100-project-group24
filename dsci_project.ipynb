{
 "cells": [
  {
   "cell_type": "markdown",
   "id": "2282896d-6f8c-4cb3-906b-0fc575a906f0",
   "metadata": {},
   "source": [
    "title:Classification for Heart Disease"
   ]
  },
  {
   "cell_type": "code",
   "execution_count": 1,
   "id": "c712b82c-39f0-4edc-92da-fcbe085c6b6a",
   "metadata": {
    "tags": []
   },
   "outputs": [],
   "source": [
    "url <- \"https://archive.ics.uci.edu/dataset/45/heart+disease\""
   ]
  },
  {
   "cell_type": "code",
   "execution_count": 2,
   "id": "55cd69b2-6ca1-4d15-8672-043856fa5666",
   "metadata": {
    "tags": []
   },
   "outputs": [],
   "source": [
    "#test2"
   ]
  },
  {
   "cell_type": "code",
   "execution_count": null,
   "id": "7fc502f0-cf3a-44a2-ac54-35dd2bbaef44",
   "metadata": {},
   "outputs": [],
   "source": [
    "# test"
   ]
  },
  {
   "cell_type": "code",
   "execution_count": null,
   "id": "1b76c670-949c-4d03-b910-41ce2b7d451c",
   "metadata": {},
   "outputs": [],
   "source": []
  }
 ],
 "metadata": {
  "kernelspec": {
   "display_name": "R",
   "language": "R",
   "name": "ir"
  },
  "language_info": {
   "codemirror_mode": "r",
   "file_extension": ".r",
   "mimetype": "text/x-r-source",
   "name": "R",
   "pygments_lexer": "r",
   "version": "4.2.2"
  }
 },
 "nbformat": 4,
 "nbformat_minor": 5
}
