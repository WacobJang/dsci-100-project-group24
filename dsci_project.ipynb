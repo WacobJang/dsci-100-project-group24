{
 "cells": [
  {
   "cell_type": "code",
   "execution_count": 1,
   "id": "150b3e73-1033-47bc-961e-ee4b6a8c2397",
   "metadata": {
    "tags": []
   },
   "outputs": [
    {
     "name": "stdout",
     "output_type": "stream",
     "text": [
      "[1] \"asdf\"\n"
     ]
    }
   ],
   "source": [
    "print(\"asdf\")"
   ]
  },
  {
   "cell_type": "code",
   "execution_count": null,
   "id": "78109277-750c-4dc5-a6dd-bab9d0b2917c",
   "metadata": {},
   "outputs": [],
   "source": [
    "helloaksjbdjasbd"
   ]
  }
 ],
 "metadata": {
  "kernelspec": {
   "display_name": "R",
   "language": "R",
   "name": "ir"
  },
  "language_info": {
   "codemirror_mode": "r",
   "file_extension": ".r",
   "mimetype": "text/x-r-source",
   "name": "R",
   "pygments_lexer": "r",
   "version": "4.2.2"
  }
 },
 "nbformat": 4,
 "nbformat_minor": 5
}
