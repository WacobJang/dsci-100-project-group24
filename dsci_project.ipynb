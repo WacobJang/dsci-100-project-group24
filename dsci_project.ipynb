{
 "cells": [
  {
   "cell_type": "markdown",
   "id": "2282896d-6f8c-4cb3-906b-0fc575a906f0",
   "metadata": {},
   "source": [
    "title:Classification for Heart Disease"
   ]
  },
  {
   "cell_type": "code",
   "execution_count": 4,
   "id": "c712b82c-39f0-4edc-92da-fcbe085c6b6a",
   "metadata": {
    "tags": []
   },
   "outputs": [
    {
     "ename": "ERROR",
     "evalue": "Error in parse(text = x, srcfile = src): <text>:1:25: unexpected string constant\n1: Heart_Disease<- read_csv\"https://archive.ics.uci.edu/dataset/45/heart+disease\"\n                            ^\n",
     "output_type": "error",
     "traceback": [
      "Error in parse(text = x, srcfile = src): <text>:1:25: unexpected string constant\n1: Heart_Disease<- read_csv\"https://archive.ics.uci.edu/dataset/45/heart+disease\"\n                            ^\nTraceback:\n"
     ]
    }
   ],
   "source": [
    "url <- \"https://archive.ics.uci.edu/dataset/45/heart+disease\""
   ]
  },
  {
   "cell_type": "code",
   "execution_count": null,
   "id": "55cd69b2-6ca1-4d15-8672-043856fa5666",
   "metadata": {},
   "outputs": [],
   "source": []
  }
 ],
 "metadata": {
  "kernelspec": {
   "display_name": "R",
   "language": "R",
   "name": "ir"
  },
  "language_info": {
   "codemirror_mode": "r",
   "file_extension": ".r",
   "mimetype": "text/x-r-source",
   "name": "R",
   "pygments_lexer": "r",
   "version": "4.2.2"
  }
 },
 "nbformat": 4,
 "nbformat_minor": 5
}
